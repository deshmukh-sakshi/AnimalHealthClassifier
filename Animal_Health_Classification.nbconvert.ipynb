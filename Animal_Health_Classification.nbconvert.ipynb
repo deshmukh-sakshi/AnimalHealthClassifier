{
 "cells": [
  {
   "cell_type": "code",
   "execution_count": 1,
   "id": "5ebfac90",
   "metadata": {
    "execution": {
     "iopub.execute_input": "2025-07-30T16:49:32.727469Z",
     "iopub.status.busy": "2025-07-30T16:49:32.727269Z",
     "iopub.status.idle": "2025-07-30T16:49:34.165149Z",
     "shell.execute_reply": "2025-07-30T16:49:34.164529Z"
    }
   },
   "outputs": [
    {
     "name": "stdout",
     "output_type": "stream",
     "text": [
      "Libraries imported successfully.\n"
     ]
    }
   ],
   "source": [
    "import pandas as pd\n",
    "import numpy as np\n",
    "from sklearn.model_selection import train_test_split\n",
    "from sklearn.preprocessing import LabelEncoder, StandardScaler\n",
    "from sklearn.ensemble import RandomForestClassifier\n",
    "from imblearn.over_sampling import SMOTE\n",
    "import pickle\n",
    "print(\"Libraries imported successfully.\")"
   ]
  },
  {
   "cell_type": "code",
   "execution_count": 2,
   "id": "54ca05f2",
   "metadata": {
    "execution": {
     "iopub.execute_input": "2025-07-30T16:49:34.167001Z",
     "iopub.status.busy": "2025-07-30T16:49:34.166773Z",
     "iopub.status.idle": "2025-07-30T16:49:34.175935Z",
     "shell.execute_reply": "2025-07-30T16:49:34.175410Z"
    }
   },
   "outputs": [
    {
     "name": "stdout",
     "output_type": "stream",
     "text": [
      "Data loaded and null values handled successfully.\n"
     ]
    },
    {
     "name": "stderr",
     "output_type": "stream",
     "text": [
      "/tmp/ipykernel_8525/1671417328.py:2: FutureWarning: A value is trying to be set on a copy of a DataFrame or Series through chained assignment using an inplace method.\n",
      "The behavior will change in pandas 3.0. This inplace method will never work because the intermediate object on which we are setting values always behaves as a copy.\n",
      "\n",
      "For example, when doing 'df[col].method(value, inplace=True)', try using 'df.method({col: value}, inplace=True)' or df[col] = df[col].method(value) instead, to perform the operation inplace on the original object.\n",
      "\n",
      "\n",
      "  df['Dangerous'].fillna(df['Dangerous'].mode()[0], inplace=True)\n"
     ]
    }
   ],
   "source": [
    "df = pd.read_csv('Animal_Health.csv')\n",
    "df['Dangerous'].fillna(df['Dangerous'].mode()[0], inplace=True) \n",
    "print(\"Data loaded and null values handled successfully.\")"
   ]
  },
  {
   "cell_type": "code",
   "execution_count": 3,
   "id": "b26c50bf",
   "metadata": {
    "execution": {
     "iopub.execute_input": "2025-07-30T16:49:34.177551Z",
     "iopub.status.busy": "2025-07-30T16:49:34.177374Z",
     "iopub.status.idle": "2025-07-30T16:49:34.184400Z",
     "shell.execute_reply": "2025-07-30T16:49:34.183845Z"
    }
   },
   "outputs": [
    {
     "name": "stdout",
     "output_type": "stream",
     "text": [
      "\n",
      "Categorical columns encoded successfully.\n"
     ]
    }
   ],
   "source": [
    "encoders = {}\n",
    "for col in df.columns:\n",
    "    le = LabelEncoder()\n",
    "    df[col] = le.fit_transform(df[col])\n",
    "    encoders[col] = le\n",
    "print(\"\\nCategorical columns encoded successfully.\")"
   ]
  },
  {
   "cell_type": "code",
   "execution_count": 4,
   "id": "08f62a3b",
   "metadata": {
    "execution": {
     "iopub.execute_input": "2025-07-30T16:49:34.185975Z",
     "iopub.status.busy": "2025-07-30T16:49:34.185818Z",
     "iopub.status.idle": "2025-07-30T16:49:34.193618Z",
     "shell.execute_reply": "2025-07-30T16:49:34.193100Z"
    }
   },
   "outputs": [
    {
     "name": "stdout",
     "output_type": "stream",
     "text": [
      "\n",
      "Features and target separated. X shape: (871, 6), y shape: (871,)\n"
     ]
    }
   ],
   "source": [
    "X = df.drop('Dangerous', axis=1)\n",
    "y = df['Dangerous']\n",
    "print(f\"\\nFeatures and target separated. X shape: {X.shape}, y shape: {y.shape}\")"
   ]
  },
  {
   "cell_type": "code",
   "execution_count": 5,
   "id": "f4fc13b0",
   "metadata": {
    "execution": {
     "iopub.execute_input": "2025-07-30T16:49:34.195224Z",
     "iopub.status.busy": "2025-07-30T16:49:34.195036Z",
     "iopub.status.idle": "2025-07-30T16:49:34.212347Z",
     "shell.execute_reply": "2025-07-30T16:49:34.211181Z"
    }
   },
   "outputs": [
    {
     "name": "stdout",
     "output_type": "stream",
     "text": [
      "Data split into training and testing sets.\n"
     ]
    }
   ],
   "source": [
    "X_train, X_test, y_train, y_test = train_test_split(X, y, test_size=0.3, random_state=42, stratify=y)\n",
    "print(f\"Data split into training and testing sets.\")"
   ]
  },
  {
   "cell_type": "code",
   "execution_count": 6,
   "id": "7216075e",
   "metadata": {
    "execution": {
     "iopub.execute_input": "2025-07-30T16:49:34.214561Z",
     "iopub.status.busy": "2025-07-30T16:49:34.214333Z",
     "iopub.status.idle": "2025-07-30T16:49:34.222171Z",
     "shell.execute_reply": "2025-07-30T16:49:34.221740Z"
    }
   },
   "outputs": [
    {
     "name": "stdout",
     "output_type": "stream",
     "text": [
      "\n",
      "Features scaled successfully.\n"
     ]
    }
   ],
   "source": [
    "scaler = StandardScaler()\n",
    "X_train_scaled = scaler.fit_transform(X_train)\n",
    "X_test_scaled = scaler.transform(X_test)\n",
    "print(\"\\nFeatures scaled successfully.\")"
   ]
  },
  {
   "cell_type": "code",
   "execution_count": 7,
   "id": "e10ad46a",
   "metadata": {
    "execution": {
     "iopub.execute_input": "2025-07-30T16:49:34.223714Z",
     "iopub.status.busy": "2025-07-30T16:49:34.223552Z",
     "iopub.status.idle": "2025-07-30T16:49:34.230249Z",
     "shell.execute_reply": "2025-07-30T16:49:34.229714Z"
    }
   },
   "outputs": [
    {
     "name": "stdout",
     "output_type": "stream",
     "text": [
      "SMOTE applied to the training data.\n"
     ]
    }
   ],
   "source": [
    "smote = SMOTE(random_state=42)\n",
    "X_train_resampled, y_train_resampled = smote.fit_resample(X_train_scaled, y_train)\n",
    "print(\"SMOTE applied to the training data.\")"
   ]
  },
  {
   "cell_type": "code",
   "execution_count": 8,
   "id": "1976c882",
   "metadata": {
    "execution": {
     "iopub.execute_input": "2025-07-30T16:49:34.231836Z",
     "iopub.status.busy": "2025-07-30T16:49:34.231672Z",
     "iopub.status.idle": "2025-07-30T16:49:34.432876Z",
     "shell.execute_reply": "2025-07-30T16:49:34.432291Z"
    }
   },
   "outputs": [
    {
     "name": "stdout",
     "output_type": "stream",
     "text": [
      "\n",
      "Random Forest model trained successfully.\n"
     ]
    }
   ],
   "source": [
    "rfc = RandomForestClassifier(random_state=42)\n",
    "rfc.fit(X_train_resampled, y_train_resampled)\n",
    "print(\"\\nRandom Forest model trained successfully.\")"
   ]
  },
  {
   "cell_type": "code",
   "execution_count": 9,
   "id": "1e470b40",
   "metadata": {
    "execution": {
     "iopub.execute_input": "2025-07-30T16:49:34.434642Z",
     "iopub.status.busy": "2025-07-30T16:49:34.434476Z",
     "iopub.status.idle": "2025-07-30T16:49:34.443284Z",
     "shell.execute_reply": "2025-07-30T16:49:34.442729Z"
    }
   },
   "outputs": [
    {
     "name": "stdout",
     "output_type": "stream",
     "text": [
      "\n",
      "✅ Model ('rfc.pkl') and Scaler ('scaler.pkl') have been saved successfully!\n"
     ]
    }
   ],
   "source": [
    "pickle.dump(rfc, open('rfc.pkl', 'wb'))\n",
    "pickle.dump(scaler, open('scaler.pkl', 'wb'))\n",
    "print(\"\\n✅ Model ('rfc.pkl') and Scaler ('scaler.pkl') have been saved successfully!\")\n"
   ]
  }
 ],
 "metadata": {
  "kernelspec": {
   "display_name": "smartbridge (3.13.5)",
   "language": "python",
   "name": "python3"
  },
  "language_info": {
   "codemirror_mode": {
    "name": "ipython",
    "version": 3
   },
   "file_extension": ".py",
   "mimetype": "text/x-python",
   "name": "python",
   "nbconvert_exporter": "python",
   "pygments_lexer": "ipython3",
   "version": "3.11.13"
  }
 },
 "nbformat": 4,
 "nbformat_minor": 5
}
